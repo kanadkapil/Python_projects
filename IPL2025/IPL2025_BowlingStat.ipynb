import pandas as pd
import numpy as np
import seaborn as sns
import matplotlib.pyplot as plt
from sklearn.preprocessing import MinMaxScaler
from math import pi
import matplotlib.cm as cm

def main():
    # Load the data
    url = "https://raw.githubusercontent.com/kanadkapil/Data/main/IPL2025_BowlerData.csv"
    df = pd.read_csv(url, on_bad_lines='skip')

    # Clean & convert columns
    df['Overs'] = pd.to_numeric(df['Overs'], errors='coerce')
    df['Pace (km/h)'] = pd.to_numeric(df['Pace (km/h)'], errors='coerce')
    df['Runs Conceded'] = pd.to_numeric(df['Runs Conceded'], errors='coerce')
    df['Boundary % (4s & 6s)'] = pd.to_numeric(df['Boundary % (4s & 6s)'], errors='coerce')
    df['Dot Ball %'] = pd.to_numeric(df['Dot Ball %'], errors='coerce')
    df['Average Runs per Over (PP)'] = pd.to_numeric(df['Average Runs per Over (PP)'], errors='coerce')
    df['Average Runs per Over (MO)'] = pd.to_numeric(df['Average Runs per Over (MO)'], errors='coerce')
    df['Average Runs per Over (DO)'] = pd.to_numeric(df['Average Runs per Over (DO)'], errors='coerce')

    # Filter bowlers with at least 10 overs bowled
    df = df[df['Overs'] >= 10].copy()

    # Compute overall economy from runs and overs
    df['Economy_calc'] = df['Runs Conceded'] / df['Overs']

    # 1. Economy Rate by Phase Visualization
    df_sorted = df.sort_values(by='Runs Conceded', ascending=True)
    df_melt = df_sorted.melt(
        id_vars='Bowler Name',
        value_vars=['Average Runs per Over (PP)', 'Average Runs per Over (MO)', 'Average Runs per Over (DO)'],
        var_name='Phase',
        value_name='Economy'
    )

    plt.figure(figsize=(10, len(df_sorted) * 0.5))
    barplot = sns.barplot(
        data=df_melt,
        y='Bowler Name',
        x='Economy',
        hue='Phase',
        orient='h'
    )
    for container in barplot.containers:
        barplot.bar_label(container, fmt='%.2f', label_type='edge', fontsize=8, padding=2)

    plt.title('Economy Rate in Different Match Phases (Sorted by Runs Conceded)')
    plt.xlabel('Runs Per Over')
    plt.ylabel('Bowler Name')
    plt.tight_layout()
    plt.show()

    # 2. Pace vs Wickets Scatter Plot
    plt.figure(figsize=(12, 7))
    scatter = sns.scatterplot(
        data=df,
        x='Pace (km/h)',
        y='Wickets',
        size='Wickets',
        hue='Economy_calc',
        palette='coolwarm',
        alpha=0.7,
        sizes=(50, 300)
    )

    sns.regplot(
        data=df,
        x='Pace (km/h)',
        y='Wickets',
        scatter=False,
        color='black',
        line_kws={"linestyle": "dashed"}
    )

    for i, row in df[df['Wickets'] >= 10].iterrows():
        plt.text(
            row['Pace (km/h)'] + 0.3,
            row['Wickets'] + 0.3,
            row['Bowler Name'],
            fontsize=8
        )

    plt.title('Bowling Speed vs Wickets Taken')
    plt.xlabel('Pace (km/h)')
    plt.ylabel('Wickets in Tournament')
    plt.legend(title='Economy Rate', bbox_to_anchor=(1.05, 1), loc=2)
    plt.tight_layout()
    plt.show()

    # 3. Dot Ball to Boundary Ratios
    dot_vs_boundary = df[['Bowler Name', 'Dot Ball %', 'Boundary % (4s & 6s)']].copy()
    dot_vs_boundary['Dot/Boundary Ratio'] = dot_vs_boundary['Dot Ball %'] / dot_vs_boundary['Boundary % (4s & 6s)']
    dot_vs_boundary_sorted = dot_vs_boundary.sort_values(by='Dot/Boundary Ratio', ascending=False)

    print("\n=== Dot Ball % to Boundary % Ratio (Higher means more disciplined) ===\n")
    print(dot_vs_boundary_sorted[['Bowler Name', 'Dot Ball %', 'Boundary % (4s & 6s)', 'Dot/Boundary Ratio']])

    top_5 = dot_vs_boundary_sorted.head(5)
    print("\n🏆 Top 5 Most Disciplined Bowlers (Dot % to Boundary % Ratio):\n")
    print(top_5[['Bowler Name', 'Dot Ball %', 'Boundary % (4s & 6s)', 'Dot/Boundary Ratio']])


    # 4. Heatmap: Correlation Matrix of Economy Rates
    plt.figure(figsize=(7, 6))
    corr = df[['Average Runs per Over (PP)', 'Average Runs per Over (MO)', 'Average Runs per Over (DO)', 'Economy_calc']].corr()
    sns.heatmap(corr, annot=True, cmap='vlag', center=0)
    plt.title('Correlation Matrix: Economy by Phase vs Overall Economy')
    plt.tight_layout()
    plt.figtext(0.5, -0.02,
                "Note: PP = Powerplay, MO = Middle Overs, DO = Death Overs\nStrong correlation between DO and overall economy indicates DO performance heavily influences total economy.",
                wrap=True, ha='center', fontsize=9)
    plt.show()

    # 5. Composite Performance Score
    scaler = MinMaxScaler()
    df[['Dot Ball %_scaled', 'Wickets_scaled', 'Economy_scaled']] = scaler.fit_transform(
        df[['Dot Ball %', 'Wickets', 'Economy_calc']]
    )
    df['Performance Score'] = (df['Dot Ball %_scaled'] + df['Wickets_scaled'] + (1 - df['Economy_scaled'])) / 3
    df = df.sort_values(by='Performance Score', ascending=False).reset_index(drop=True)

    print("\n🎯 Top 5 Bowlers by Composite Performance Score:\n")
    print(df[['Bowler Name', 'Dot Ball %', 'Wickets', 'Economy_calc', 'Performance Score']].head(5))


    # 6. Wickets vs Overall Economy by Match Phase
    phase_cols = ['Average Runs per Over (PP)', 'Average Runs per Over (MO)', 'Average Runs per Over (DO)']
    df_long = df.melt(
        id_vars=['Bowler Name', 'Wickets', 'Economy_calc'],
        value_vars=phase_cols,
        var_name='Phase',
        value_name='Phase Economy'
    )

    g = sns.FacetGrid(df_long, col='Phase', height=4.5, aspect=1.2)
    g.map_dataframe(sns.scatterplot, x='Economy_calc', y='Wickets', hue='Phase Economy', palette='coolwarm', size='Phase Economy', sizes=(50, 250), alpha=0.7)
    g.set_axis_labels("Overall Economy", "Wickets")
    g.add_legend()
    g.fig.suptitle('Wickets vs Overall Economy by Match Phase', y=1.05)
    plt.tight_layout()
    plt.show()

    # 7. Boundary % vs Dot Ball % Scatter Plot
    plt.figure(figsize=(10, 6))
    sns.scatterplot(
        data=df,
        x='Boundary % (4s & 6s)',
        y='Dot Ball %',
        size='Overs',
        hue='Wickets',
        sizes=(40, 300),
        palette='YlGnBu',
        alpha=0.8
    )
    plt.xlabel('Boundary % (Lower is Better)')
    plt.ylabel('Dot Ball % (Higher is Better)')
    plt.title('Dot Ball % vs Boundary % (Bubble Size = Overs)')
    plt.legend(title='Wickets Taken', bbox_to_anchor=(1.05, 1), loc=2)
    plt.tight_layout()
    plt.show()

    # 8. Radar Chart for Top 5 Bowlers
    top_5_bowlers = df.head(5)
    radar_data = top_5_bowlers[['Bowler Name', 'Dot Ball %_scaled', 'Wickets_scaled', 'Economy_scaled']].copy()
    radar_data['Economy_scaled'] = 1 - radar_data['Economy_scaled']  # Invert economy

    labels = ['Dot Ball %', 'Wickets', 'Inverted Economy']
    num_vars = len(labels)
    angles = [n / float(num_vars) * 2 * pi for n in range(num_vars)]
    angles += angles[:1]

    plt.figure(figsize=(8, 8))
    colors = cm.viridis(np.linspace(0.2, 0.9, len(radar_data)))

    for idx, row in radar_data.iterrows():
        values = row.drop('Bowler Name').tolist()
        values += values[:1]
        plt.polar(angles, values, label=row['Bowler Name'], color=colors[idx], linewidth=2)
        plt.fill(angles, values, alpha=0.15, color=colors[idx])

    plt.xticks(angles[:-1], labels)
    plt.title('Top 5 Bowlers: Radar View of Performance Metrics', y=1.1)
    plt.legend(loc='upper right', bbox_to_anchor=(1.3, 1.1))
    plt.tight_layout()
    plt.show()

if __name__ == "__main__":
    main()
