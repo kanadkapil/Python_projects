import pandas as pd
import numpy as np
import seaborn as sns
import matplotlib.pyplot as plt

def main():
    # Load the data
    url = "https://raw.githubusercontent.com/kanadkapil/Data/main/IPL2025_BowlerData.csv"
    df = pd.read_csv(url, on_bad_lines='skip')

    # Clean & convert columns
    df['Overs'] = pd.to_numeric(df['Overs'], errors='coerce')
    df['Pace (km/h)'] = pd.to_numeric(df['Pace (km/h)'], errors='coerce')
    df['Runs Conceded'] = pd.to_numeric(df['Runs Conceded'], errors='coerce')
    df['Boundary % (4s & 6s)'] = pd.to_numeric(df['Boundary % (4s & 6s)'], errors='coerce')
    df['Dot Ball %'] = pd.to_numeric(df['Dot Ball %'], errors='coerce')
    df['Average Runs per Over (PP)'] = pd.to_numeric(df['Average Runs per Over (PP)'], errors='coerce')
    df['Average Runs per Over (MO)'] = pd.to_numeric(df['Average Runs per Over (MO)'], errors='coerce')
    df['Average Runs per Over (DO)'] = pd.to_numeric(df['Average Runs per Over (DO)'], errors='coerce')

    # 🔽 Filter bowlers with at least 10 overs bowled
    df = df[df['Overs'] >= 10]

    # Compute overall economy from runs and overs
    df['Economy_calc'] = df['Runs Conceded'] / df['Overs']

    # 1. Economy Rate by Phase Visualization (Sorted & Horizontal Barplot)
    df_sorted = df.sort_values(by='Runs Conceded', ascending=True)
    df_melt = df_sorted.melt(
        id_vars='Bowler Name',
        value_vars=['Average Runs per Over (PP)', 'Average Runs per Over (MO)', 'Average Runs per Over (DO)'],
        var_name='Phase',
        value_name='Economy'
    )

    plt.figure(figsize=(10, len(df_sorted) * 0.5))  # Dynamic height based on number of bowlers
    sns.barplot(
        data=df_melt,
        y='Bowler Name',
        x='Economy',
        hue='Phase',
        orient='h'
    )
    plt.title('Economy Rate in Different Match Phases (Sorted by Runs Conceded)')
    plt.xlabel('Runs Per Over')
    plt.ylabel('Bowler Name')
    plt.tight_layout()
    plt.show()


    # 2. Pace vs Wickets Scatter Plot
    plt.figure(figsize=(12, 7))  # Slightly wider
    sns.scatterplot(
        data=df,
        x='Pace (km/h)',
        y='Wickets',
        size='Wickets',
        hue='Economy_calc',
        palette='coolwarm',
        alpha=0.7,
        sizes=(50, 300)
    )
    plt.title('Bowling Speed vs Wickets Taken')
    plt.xlabel('Pace (km/h)')
    plt.ylabel('Wickets in Tournament')
    plt.legend(title='Economy Rate', bbox_to_anchor=(1.05, 1), loc=2)
    plt.tight_layout()
    plt.show()

    # 3. Dot Ball to Boundary Ratios
    dot_vs_boundary = df[['Bowler Name', 'Dot Ball %', 'Boundary % (4s & 6s)']].copy()
    dot_vs_boundary['Dot/Boundary Ratio'] = dot_vs_boundary['Dot Ball %'] / dot_vs_boundary['Boundary % (4s & 6s)']
    dot_vs_boundary_sorted = dot_vs_boundary.sort_values(by='Dot/Boundary Ratio', ascending=False)
    print("\n=== Dot Ball % to Boundary % Ratio (Higher means more disciplined) ===\n")
    print(dot_vs_boundary_sorted[['Bowler Name', 'Dot Ball %', 'Boundary % (4s & 6s)', 'Dot/Boundary Ratio']])

    # 4. Heatmap: Correlation Matrix of Economy Rates
    plt.figure(figsize=(7, 6))
    corr = df[['Average Runs per Over (PP)', 'Average Runs per Over (MO)', 'Average Runs per Over (DO)', 'Economy_calc']].corr()
    sns.heatmap(corr, annot=True, cmap='vlag', center=0)
    plt.title('Correlation Matrix: Economy by Phase vs Overall Economy')
    plt.tight_layout()
    plt.show()

if __name__ == "__main__":
    main()
