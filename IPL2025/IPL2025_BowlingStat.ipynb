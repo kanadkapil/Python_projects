import pandas as pd
import numpy as np
import seaborn as sns
import matplotlib.pyplot as plt
from sklearn.preprocessing import MinMaxScaler
from math import pi
import matplotlib.cm as cm
import plotly.express as px
import plotly.graph_objects as go

def load_and_clean_data(min_overs=10):
    url = "https://raw.githubusercontent.com/kanadkapil/Data/main/IPL2025_BowlerData.csv"
    df = pd.read_csv(url, on_bad_lines='skip')

    # Clean and convert numeric columns
    numeric_cols = [
        'Overs', 'Pace (km/h)', 'Runs Conceded', 'Boundary % (4s & 6s)', 'Dot Ball %',
        'Average Runs per Over (PP)', 'Average Runs per Over (MO)', 'Average Runs per Over (DO)'
    ]
    df[numeric_cols] = df[numeric_cols].apply(pd.to_numeric, errors='coerce')
    df = df.dropna(subset=numeric_cols)
    df = df[df['Overs'] >= min_overs].copy()

    df['Economy_calc'] = df['Runs Conceded'] / df['Overs']
    return df

def interactive_phase_economy(df):
    df_melt = df.melt(
        id_vars='Bowler Name',
        value_vars=[
            'Average Runs per Over (PP)', 'Average Runs per Over (MO)', 'Average Runs per Over (DO)'
        ],
        var_name='Phase',
        value_name='Economy'
    )
    fig = px.bar(
        df_melt.sort_values(by='Economy'),
        x='Economy',
        y='Bowler Name',
        color='Phase',
        orientation='h',
        title='Interactive: Economy Rate by Match Phase',
        hover_data=['Economy']
    )
    fig.update_layout(height=800)
    fig.show()

def pace_vs_wickets(df):
    fig = px.scatter(
        df,
        x='Pace (km/h)', y='Wickets',
        size='Wickets',
        color='Economy_calc',
        hover_name='Bowler Name',
        color_continuous_scale='RdYlGn_r',
        title='Bowling Speed vs Wickets Taken',
        size_max=30
    )
    fig.show()

def dot_vs_boundary_ratio(df):
    df['Dot/Boundary Ratio'] = df['Dot Ball %'] / df['Boundary % (4s & 6s)']
    sorted_df = df.sort_values(by='Dot/Boundary Ratio', ascending=False)
    top5 = sorted_df.head(5)
    print("\n🏆 Top 5 Most Disciplined Bowlers (Dot % to Boundary % Ratio):\n")
    print(top5[['Bowler Name', 'Dot Ball %', 'Boundary % (4s & 6s)', 'Dot/Boundary Ratio']])
    return sorted_df

def phase_correlation_heatmap(df):
    corr = df[[
        'Average Runs per Over (PP)',
        'Average Runs per Over (MO)',
        'Average Runs per Over (DO)',
        'Economy_calc'
    ]].corr()
    plt.figure(figsize=(7, 6))
    sns.heatmap(corr, annot=True, cmap='coolwarm', center=0)
    plt.title("Correlation Matrix: Economy by Phase vs Overall Economy")
    plt.tight_layout()
    plt.show()

def radar_plot_plotly(df):
    scaler = MinMaxScaler()
    df[['Dot Ball %_scaled', 'Wickets_scaled', 'Economy_scaled']] = scaler.fit_transform(
        df[['Dot Ball %', 'Wickets', 'Economy_calc']]
    )
    df['Economy_scaled'] = 1 - df['Economy_scaled']  # Invert economy
    df['Performance Score'] = df[['Dot Ball %_scaled', 'Wickets_scaled', 'Economy_scaled']].mean(axis=1)
    df = df.sort_values(by='Performance Score', ascending=False)

    top5 = df.head(5)
    fig = go.Figure()

    categories = ['Dot Ball %', 'Wickets', 'Inverted Economy']
    for _, row in top5.iterrows():
        fig.add_trace(go.Scatterpolar(
            r=[
                row['Dot Ball %_scaled'],
                row['Wickets_scaled'],
                row['Economy_scaled'],
                row['Dot Ball %_scaled']
            ],
            theta=categories + [categories[0]],
            fill='toself',
            name=row['Bowler Name']
        ))

    fig.update_layout(
        polar=dict(radialaxis=dict(visible=True)),
        title="Radar Chart: Top 5 Bowlers",
        showlegend=True
    )
    fig.show()

def top5_wickets_bar(df):
    top5 = df.sort_values(by='Wickets', ascending=False).head(5)
    fig = px.bar(
        top5,
        x='Wickets',
        y='Bowler Name',
        orientation='h',
        color='Wickets',
        title='Top 5 Wicket Takers',
        text='Wickets',
        color_continuous_scale='Viridis'
    )
    fig.update_layout(yaxis={'categoryorder': 'total ascending'})
    fig.show()

def economy_phase_boxplot(df):
    df_melt = df.melt(
        value_vars=['Average Runs per Over (PP)', 'Average Runs per Over (MO)', 'Average Runs per Over (DO)'],
        var_name='Phase', value_name='Economy'
    )
    sns.boxplot(data=df_melt, x='Phase', y='Economy', palette='Set2')
    plt.title('Distribution of Economy Rates by Phase')
    plt.tight_layout()
    plt.show()

def main():
    print("Welcome to the IPL 2025 Bowler Dashboard!")
    try:
        min_overs = int(input("Enter minimum number of overs to consider (e.g., 10): "))
    except ValueError:
        min_overs = 10
        print("Invalid input. Defaulting to 10 overs.")

    df = load_and_clean_data(min_overs)

    interactive_phase_economy(df)
    pace_vs_wickets(df)
    disciplined_df = dot_vs_boundary_ratio(df)
    phase_correlation_heatmap(df)
    radar_plot_plotly(df)
    top5_wickets_bar(df)
    economy_phase_boxplot(df)

if __name__ == "__main__":
    main()
