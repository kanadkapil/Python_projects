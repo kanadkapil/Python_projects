{
  "nbformat": 4,
  "nbformat_minor": 0,
  "metadata": {
    "colab": {
      "provenance": []
    },
    "kernelspec": {
      "name": "python3",
      "display_name": "Python 3"
    },
    "language_info": {
      "name": "python"
    }
  },
  "cells": [
    {
      "cell_type": "code",
      "execution_count": 3,
      "metadata": {
        "id": "HVIzkE_Nb_Z2"
      },
      "outputs": [],
      "source": [
        "## Numpy array op"
      ]
    },
    {
      "cell_type": "code",
      "source": [
        "import numpy as np"
      ],
      "metadata": {
        "id": "TYr-Dy5mcIJ6"
      },
      "execution_count": 4,
      "outputs": []
    },
    {
      "cell_type": "code",
      "source": [
        "arr = np.array([1,2,3,4,5,6,7,8,9])\n",
        "print(\"Basic slicing:\", arr[2:7])\n",
        "print(\"With step: \", arr[1:8:2])\n",
        "print(\"Negative index: \", arr[-3])"
      ],
      "metadata": {
        "colab": {
          "base_uri": "https://localhost:8080/"
        },
        "id": "IZnTIMwmcNfi",
        "outputId": "00066133-1258-41d0-8091-1ffc1e529eca"
      },
      "execution_count": 5,
      "outputs": [
        {
          "output_type": "stream",
          "name": "stdout",
          "text": [
            "Basic slicing: [3 4 5 6 7]\n",
            "With step:  [2 4 6 8]\n",
            "Negative index:  7\n"
          ]
        }
      ]
    },
    {
      "cell_type": "code",
      "source": [
        "arr_2d = np.array([[1,2,3],\n",
        "                   [4,5,6],\n",
        "                   [7,8,9]])\n",
        "print(\"Specific ele: \", arr_2d[1,2])\n",
        "print(\"Entire row: \", arr_2d[1])\n",
        "print(\"Entire col: \", arr_2d[:, 1])"
      ],
      "metadata": {
        "colab": {
          "base_uri": "https://localhost:8080/"
        },
        "id": "IZ4yuXcSdLrF",
        "outputId": "f5207c09-e937-4fba-ddf1-90fab4b78043"
      },
      "execution_count": 6,
      "outputs": [
        {
          "output_type": "stream",
          "name": "stdout",
          "text": [
            "Specific ele:  6\n",
            "Entire row:  [4 5 6]\n",
            "Entire col:  [2 5 8]\n"
          ]
        }
      ]
    },
    {
      "cell_type": "markdown",
      "source": [
        "## Sorting"
      ],
      "metadata": {
        "id": "WjMP3zNQd70J"
      }
    },
    {
      "cell_type": "code",
      "source": [
        "unsorted= np.array([5,3,1,2,4,6,8,7,9])\n",
        "print(\"sorted Arr: \", np.sort(unsorted))\n",
        "unsorted_2D= np.array([[4,2],[1,3],[9,1]])\n",
        "print(\"sorted 2D Arr: \", np.sort(unsorted_2D, axis=0)) #col\n",
        "print(\"sorted 2D Arr: \", np.sort(unsorted_2D, axis=0)) #row"
      ],
      "metadata": {
        "colab": {
          "base_uri": "https://localhost:8080/"
        },
        "id": "1-6W27bqd_wf",
        "outputId": "752d4896-465b-41ac-b9eb-c1dc8b7e33b8"
      },
      "execution_count": 7,
      "outputs": [
        {
          "output_type": "stream",
          "name": "stdout",
          "text": [
            "sorted Arr:  [1 2 3 4 5 6 7 8 9]\n",
            "sorted 2D Arr:  [[1 1]\n",
            " [4 2]\n",
            " [9 3]]\n",
            "sorted 2D Arr:  [[1 1]\n",
            " [4 2]\n",
            " [9 3]]\n"
          ]
        }
      ]
    },
    {
      "cell_type": "markdown",
      "source": [
        "## Filtering"
      ],
      "metadata": {
        "id": "i8N7aulTfLjl"
      }
    },
    {
      "cell_type": "code",
      "source": [
        "n = np.array([1,2,3,4,5,6,7,8,9])\n",
        "f = [True, False, True, False, True, True, True, False, True]\n",
        "print(n[f])\n",
        "\n",
        "n = np.array([1,2,3,4,5,6,7,8,9])\n",
        "even = n[n%2==0]\n",
        "print(even)"
      ],
      "metadata": {
        "colab": {
          "base_uri": "https://localhost:8080/"
        },
        "id": "ApYNRXK5fN4N",
        "outputId": "b1a44900-6657-47d1-c4bd-8ff776226740"
      },
      "execution_count": 10,
      "outputs": [
        {
          "output_type": "stream",
          "name": "stdout",
          "text": [
            "[1 3 5 6 7 9]\n",
            "[2 4 6 8]\n"
          ]
        }
      ]
    },
    {
      "cell_type": "markdown",
      "source": [
        "## Filter with mask"
      ],
      "metadata": {
        "id": "NNe8UM6qD1tE"
      }
    },
    {
      "cell_type": "code",
      "source": [
        "mask  = n>5\n",
        "print(\"numbers greater than 5: \",n[mask])"
      ],
      "metadata": {
        "colab": {
          "base_uri": "https://localhost:8080/"
        },
        "id": "rwIKlh_eD4Y4",
        "outputId": "98008fa2-fd4d-4a1b-d908-c2777dd9d6ff"
      },
      "execution_count": 9,
      "outputs": [
        {
          "output_type": "stream",
          "name": "stdout",
          "text": [
            "numbers greater than 5:  [6 7 8 9]\n"
          ]
        }
      ]
    },
    {
      "cell_type": "markdown",
      "source": [
        "## Fancy indexing vs np.where()"
      ],
      "metadata": {
        "id": "5rdSwRtWEm0h"
      }
    },
    {
      "cell_type": "code",
      "source": [
        "indices = [0,2,4]\n",
        "print(n[indices])"
      ],
      "metadata": {
        "colab": {
          "base_uri": "https://localhost:8080/"
        },
        "id": "Corv8ez0EtKV",
        "outputId": "5b9cf102-e055-43c6-9d3a-4a024c2ce1aa"
      },
      "execution_count": 12,
      "outputs": [
        {
          "output_type": "stream",
          "name": "stdout",
          "text": [
            "[1 3 5]\n"
          ]
        }
      ]
    },
    {
      "cell_type": "markdown",
      "source": [
        "## Adding and removing data"
      ],
      "metadata": {
        "id": "pzDrI7QeHT9F"
      }
    },
    {
      "cell_type": "code",
      "source": [
        "arr1 = np.array([1,2,3])\n",
        "arr2 = np.array([4,5,6])\n",
        "concat= np.concatenate((arr1,arr2))\n",
        "print(concat)"
      ],
      "metadata": {
        "colab": {
          "base_uri": "https://localhost:8080/"
        },
        "id": "HzrEIKPkHfeG",
        "outputId": "daec1854-905a-4434-9b48-8b5442d14b0a"
      },
      "execution_count": 13,
      "outputs": [
        {
          "output_type": "stream",
          "name": "stdout",
          "text": [
            "[1 2 3 4 5 6]\n"
          ]
        }
      ]
    },
    {
      "cell_type": "markdown",
      "source": [
        "## array compatibility"
      ],
      "metadata": {
        "id": "fK58ATLBH3x1"
      }
    },
    {
      "cell_type": "code",
      "source": [
        "a=np.array([1,2,3])\n",
        "b=np.array([4,5,6,0])\n",
        "c=np.array([7,8,9])\n",
        "\n",
        "print(\"compatibility shapes, \", a.shape == b.shape)\n",
        "print(\"compatibility shapes, \", a.shape == c.shape)"
      ],
      "metadata": {
        "colab": {
          "base_uri": "https://localhost:8080/"
        },
        "id": "eaJ-n33KH6xn",
        "outputId": "5909b603-f969-4688-f000-f2a3a9c161b7"
      },
      "execution_count": 14,
      "outputs": [
        {
          "output_type": "stream",
          "name": "stdout",
          "text": [
            "compatibility shapes,  False\n",
            "compatibility shapes,  True\n"
          ]
        }
      ]
    },
    {
      "cell_type": "markdown",
      "source": [
        "## deletion in numpy"
      ],
      "metadata": {
        "id": "5wU3KryBJN6Y"
      }
    },
    {
      "cell_type": "code",
      "source": [
        "arr = np.array([1,2,3,4,5,6,7,8,9])\n",
        "arr = np.delete(arr, 2)\n",
        "print(arr)"
      ],
      "metadata": {
        "colab": {
          "base_uri": "https://localhost:8080/"
        },
        "id": "1gxUPDQFJRKr",
        "outputId": "1ae27f30-cf5b-433f-ce47-50c59754e600"
      },
      "execution_count": 15,
      "outputs": [
        {
          "output_type": "stream",
          "name": "stdout",
          "text": [
            "[1 2 4 5 6 7 8 9]\n"
          ]
        }
      ]
    }
  ]
}