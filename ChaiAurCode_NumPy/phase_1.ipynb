{
  "nbformat": 4,
  "nbformat_minor": 0,
  "metadata": {
    "colab": {
      "provenance": []
    },
    "kernelspec": {
      "name": "python3",
      "display_name": "Python 3"
    },
    "language_info": {
      "name": "python"
    }
  },
  "cells": [
    {
      "cell_type": "markdown",
      "source": [
        "## Numpy basics"
      ],
      "metadata": {
        "id": "kmNDzEucPJGU"
      }
    },
    {
      "cell_type": "code",
      "execution_count": null,
      "metadata": {
        "id": "KeyedRp5PCS0"
      },
      "outputs": [],
      "source": [
        "import numpy as np"
      ]
    },
    {
      "cell_type": "markdown",
      "source": [
        "### creating array from list"
      ],
      "metadata": {
        "id": "HsV2G7CFPdoP"
      }
    },
    {
      "cell_type": "code",
      "source": [
        "arr1d=np.array([1,2,3,4,5])\n",
        "print(f\"Linear Arr: {arr1d}\")\n",
        "arr2d=np.array([[1,2,3],[4,5,6]])\n",
        "print(f\"2D Arr: \\n {arr2d}\")\n"
      ],
      "metadata": {
        "colab": {
          "base_uri": "https://localhost:8080/"
        },
        "id": "EyINV_XRPdPj",
        "outputId": "5c1d4dfb-ee40-4693-e0ef-82f8da114517"
      },
      "execution_count": null,
      "outputs": [
        {
          "output_type": "stream",
          "name": "stdout",
          "text": [
            "Linear Arr: [1 2 3 4 5]\n",
            "2D Arr: \n",
            " [[1 2 3]\n",
            " [4 5 6]]\n"
          ]
        }
      ]
    },
    {
      "cell_type": "markdown",
      "source": [
        "### list vs numpy arr"
      ],
      "metadata": {
        "id": "assymVfPQhEl"
      }
    },
    {
      "cell_type": "code",
      "source": [
        "pyList = [1,2,3]\n",
        "print(f\"pyList: {pyList*2}\")\n",
        "npArr = np.array([1,2,3]) # element wise mx\n",
        "print(f\"npArr: {npArr*2}\")"
      ],
      "metadata": {
        "colab": {
          "base_uri": "https://localhost:8080/"
        },
        "id": "h4CoRNRnQk3F",
        "outputId": "c1102270-c6dd-4329-d741-c397b7f5834e"
      },
      "execution_count": null,
      "outputs": [
        {
          "output_type": "stream",
          "name": "stdout",
          "text": [
            "pyList: [1, 2, 3, 1, 2, 3]\n",
            "npArr: [2 4 6]\n"
          ]
        }
      ]
    },
    {
      "cell_type": "code",
      "source": [
        "### time comp vs list vs numpy arr\n",
        "import time\n",
        "\n",
        "start = time.time()\n",
        "py_list=[i*2 for i in range(10000000)]\n",
        "print(f\"list op time: {time.time()-start}\")\n",
        "\n",
        "start = time.time()\n",
        "np_arr=np.array(1000000)*2\n",
        "print(f\"np arr op time: {time.time()-start}\")\n"
      ],
      "metadata": {
        "colab": {
          "base_uri": "https://localhost:8080/"
        },
        "id": "_8ml4bYfSlEO",
        "outputId": "e2b5320f-df53-4d76-f50f-9e30fcd4d2db"
      },
      "execution_count": null,
      "outputs": [
        {
          "output_type": "stream",
          "name": "stdout",
          "text": [
            "list op time: 0.5900499820709229\n",
            "np arr op time: 0.0001354217529296875\n"
          ]
        }
      ]
    },
    {
      "cell_type": "markdown",
      "source": [
        "## Creating arr from scratch"
      ],
      "metadata": {
        "id": "K8e-zev9TyHW"
      }
    },
    {
      "cell_type": "code",
      "source": [
        "zeros = np.zeros((3,4))\n",
        "print(\"zeros arr: \\n\", zeros)\n",
        "ones = np.ones((3,4))\n",
        "print(\"ones arr: \\n\", ones)\n",
        "\n",
        "full = np.full((3,4), 5)\n",
        "print(\"full arr: \\n\", full)\n",
        "\n",
        "random = np.random.random((3,4))\n",
        "print(\"random arr: \\n\", random)\n",
        "\n",
        "sequence= np.arange(0, 11, 2)\n",
        "print(\"sequence arr: \\n\", sequence)"
      ],
      "metadata": {
        "colab": {
          "base_uri": "https://localhost:8080/"
        },
        "id": "fDOo80cpT2ys",
        "outputId": "eb6b07eb-dedf-4830-dc27-b3017f4ac405"
      },
      "execution_count": null,
      "outputs": [
        {
          "output_type": "stream",
          "name": "stdout",
          "text": [
            "zeros arr: \n",
            " [[0. 0. 0. 0.]\n",
            " [0. 0. 0. 0.]\n",
            " [0. 0. 0. 0.]]\n",
            "ones arr: \n",
            " [[1. 1. 1. 1.]\n",
            " [1. 1. 1. 1.]\n",
            " [1. 1. 1. 1.]]\n",
            "full arr: \n",
            " [[5 5 5 5]\n",
            " [5 5 5 5]\n",
            " [5 5 5 5]]\n",
            "random arr: \n",
            " [[0.92494417 0.68458899 0.10409991 0.84141544]\n",
            " [0.79910233 0.98560208 0.79615289 0.84252187]\n",
            " [0.31963123 0.27967097 0.0798811  0.75690157]]\n",
            "sequence arr: \n",
            " [ 0  2  4  6  8 10]\n"
          ]
        }
      ]
    },
    {
      "cell_type": "markdown",
      "source": [
        "### Vector Matrix Tensor"
      ],
      "metadata": {
        "id": "u_VRt3jpVDW4"
      }
    },
    {
      "cell_type": "code",
      "source": [
        "vector = np.array([1,2,3])\n",
        "print(\"vector: \\n\", vector)\n",
        "matrix = np.array([[1,2,3],[4,5,6]])\n",
        "print(\"matrix: \\n\", matrix)\n",
        "tensor = np.array([[[1,2,3],[4,5,6]],[[7,8,9],[10,11,12]]])\n",
        "print(\"tensor: \\n\", tensor)"
      ],
      "metadata": {
        "colab": {
          "base_uri": "https://localhost:8080/"
        },
        "id": "IW5Pr_szVGjE",
        "outputId": "874edf45-491d-4b35-bdbb-3e1029b6932d"
      },
      "execution_count": null,
      "outputs": [
        {
          "output_type": "stream",
          "name": "stdout",
          "text": [
            "vector: \n",
            " [1 2 3]\n",
            "matrix: \n",
            " [[1 2 3]\n",
            " [4 5 6]]\n",
            "tensor: \n",
            " [[[ 1  2  3]\n",
            "  [ 4  5  6]]\n",
            "\n",
            " [[ 7  8  9]\n",
            "  [10 11 12]]]\n"
          ]
        }
      ]
    },
    {
      "cell_type": "markdown",
      "source": [
        "### Array properties"
      ],
      "metadata": {
        "id": "m1xvUeUYZy_Y"
      }
    },
    {
      "cell_type": "code",
      "source": [
        "arr = np.array([[1,2,3],[4,5,6]])\n",
        "print(\"shape: \", arr.shape)\n",
        "print(\"size: \", arr.size)\n",
        "print(\"dtype: \", arr.dtype)\n",
        "print(\"dimentions: \", arr.ndim)"
      ],
      "metadata": {
        "colab": {
          "base_uri": "https://localhost:8080/"
        },
        "id": "GW9VzEHdZyRq",
        "outputId": "8c210607-0ca2-49a9-e087-58bb74c66621"
      },
      "execution_count": null,
      "outputs": [
        {
          "output_type": "stream",
          "name": "stdout",
          "text": [
            "shape:  (2, 3)\n",
            "size:  6\n",
            "dtype:  int64\n",
            "dimentions:  2\n"
          ]
        }
      ]
    },
    {
      "cell_type": "markdown",
      "source": [
        "### Array Reshaping"
      ],
      "metadata": {
        "id": "lGe3LGtqaPdV"
      }
    },
    {
      "cell_type": "code",
      "source": [
        "arr=np.arange(12)\n",
        "print(\"Original arr: \", arr)\n",
        "\n",
        "reshaped = arr.reshape(3,4)\n",
        "print(\"Reshaped arr: \\n \", reshaped)\n",
        "\n",
        "flattened = reshaped.flatten()\n",
        "print(\"Flattened arr: \", flattened)\n",
        "\n",
        "transposed = reshaped.T\n",
        "print(\"Transposed arr: \\n \", transposed)\n",
        "\n",
        "#ravel return view, instead of copy\n",
        "raveled = reshaped.ravel()\n",
        "print(\"Raveled arr: \", raveled)"
      ],
      "metadata": {
        "colab": {
          "base_uri": "https://localhost:8080/"
        },
        "id": "OGqmRNfqaS8B",
        "outputId": "47829b32-535e-4840-b387-46412dd1f0bb"
      },
      "execution_count": null,
      "outputs": [
        {
          "output_type": "stream",
          "name": "stdout",
          "text": [
            "Original arr:  [ 0  1  2  3  4  5  6  7  8  9 10 11]\n",
            "Reshaped arr: \n",
            "  [[ 0  1  2  3]\n",
            " [ 4  5  6  7]\n",
            " [ 8  9 10 11]]\n",
            "Flattened arr:  [ 0  1  2  3  4  5  6  7  8  9 10 11]\n",
            "Transposed arr: \n",
            "  [[ 0  4  8]\n",
            " [ 1  5  9]\n",
            " [ 2  6 10]\n",
            " [ 3  7 11]]\n"
          ]
        }
      ]
    }
  ]
}