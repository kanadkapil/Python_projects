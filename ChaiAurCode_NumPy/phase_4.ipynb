{
  "nbformat": 4,
  "nbformat_minor": 0,
  "metadata": {
    "colab": {
      "provenance": []
    },
    "kernelspec": {
      "name": "python3",
      "display_name": "Python 3"
    },
    "language_info": {
      "name": "python"
    }
  },
  "cells": [
    {
      "cell_type": "code",
      "execution_count": 1,
      "metadata": {
        "id": "t-DSsBm24JZA"
      },
      "outputs": [],
      "source": [
        "import numpy as np\n",
        "import matplotlib.pyplot as plt"
      ]
    },
    {
      "cell_type": "code",
      "source": [
        "arr1=np.array([[1,2],[3,4]])\n",
        "arr2=np.random.rand(3,3)\n",
        "arr3=np.zeros((4,4))\n",
        "\n",
        "print(arr1)\n",
        "print(arr2)\n",
        "print(arr3)\n",
        "\n",
        "np.save('arr1.npy', arr1)\n",
        "np.save('arr2.npy', arr2)\n",
        "np.save('arr3.npy', arr3)\n",
        "\n",
        "loaded_arr1 = np.load('arr1.npy')\n",
        "loaded_arr2 = np.load('arr2.npy')\n",
        "loaded_arr3 = np.load('arr3.npy')\n",
        "\n",
        "print(loaded_arr1)\n",
        "print(loaded_arr2)\n",
        "print(loaded_arr3)"
      ],
      "metadata": {
        "colab": {
          "base_uri": "https://localhost:8080/"
        },
        "id": "AqQwRZbF45lD",
        "outputId": "c394f8a3-7417-43a5-cb21-9cea29601572"
      },
      "execution_count": 7,
      "outputs": [
        {
          "output_type": "stream",
          "name": "stdout",
          "text": [
            "[[1 2]\n",
            " [3 4]]\n",
            "[[0.48664532 0.4074292  0.9083334 ]\n",
            " [0.00481635 0.47824139 0.83044261]\n",
            " [0.1411704  0.79756056 0.63047391]]\n",
            "[[0. 0. 0. 0.]\n",
            " [0. 0. 0. 0.]\n",
            " [0. 0. 0. 0.]\n",
            " [0. 0. 0. 0.]]\n",
            "[[1 2]\n",
            " [3 4]]\n",
            "[[0.48664532 0.4074292  0.9083334 ]\n",
            " [0.00481635 0.47824139 0.83044261]\n",
            " [0.1411704  0.79756056 0.63047391]]\n",
            "[[0. 0. 0. 0.]\n",
            " [0. 0. 0. 0.]\n",
            " [0. 0. 0. 0.]\n",
            " [0. 0. 0. 0.]]\n"
          ]
        }
      ]
    }
  ]
}